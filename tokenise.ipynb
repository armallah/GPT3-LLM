{
 "cells": [
  {
   "cell_type": "code",
   "execution_count": 30,
   "id": "326bcf4e",
   "metadata": {},
   "outputs": [
    {
     "name": "stdout",
     "output_type": "stream",
     "text": [
      "Total number of character: 20479\n",
      "I HAD always thought Jack Gisburn rather a cheap genius--though a good fellow enough--so it was no \n"
     ]
    }
   ],
   "source": [
    "with open(\"verdict.txt\", \"r\", encoding=\"utf-8\") as f:\n",
    "    raw_text = f.read()\n",
    "print(\"Total number of character:\", len(raw_text))\n",
    "print(raw_text[:99])"
   ]
  },
  {
   "cell_type": "code",
   "execution_count": 31,
   "id": "e8ff17f4",
   "metadata": {},
   "outputs": [
    {
     "name": "stdout",
     "output_type": "stream",
     "text": [
      "4649\n"
     ]
    }
   ],
   "source": [
    "import re\n",
    "\n",
    "preprocessed = re.split(r'([,.?_!\"()\\']|--|\\s)', raw_text)\n",
    "preprocessed = [item.strip() for item in preprocessed if item.strip()]\n",
    "print(len(preprocessed))"
   ]
  },
  {
   "cell_type": "code",
   "execution_count": 32,
   "id": "2643d63f",
   "metadata": {},
   "outputs": [
    {
     "name": "stdout",
     "output_type": "stream",
     "text": [
      "['I', 'HAD', 'always', 'thought', 'Jack', 'Gisburn', 'rather', 'a', 'cheap', 'genius', '--', 'though', 'a', 'good', 'fellow', 'enough', '--', 'so', 'it', 'was', 'no', 'great', 'surprise', 'to', 'me', 'to', 'hear', 'that', ',', 'in']\n"
     ]
    }
   ],
   "source": [
    "print(preprocessed[:30])"
   ]
  },
  {
   "cell_type": "code",
   "execution_count": 36,
   "id": "3a668574",
   "metadata": {},
   "outputs": [
    {
     "name": "stdout",
     "output_type": "stream",
     "text": [
      "1159\n"
     ]
    }
   ],
   "source": [
    "#Converting tokens into token IDs\n",
    "all_words = (set(preprocessed))\n",
    "vocab_size = len(all_words)\n",
    "print(vocab_size)\n"
   ]
  },
  {
   "cell_type": "code",
   "execution_count": 37,
   "id": "a22d614b",
   "metadata": {},
   "outputs": [
    {
     "name": "stdout",
     "output_type": "stream",
     "text": [
      "('too', 0)\n",
      "('elegant', 1)\n",
      "('painting', 2)\n",
      "('spacious', 3)\n",
      "('vases', 4)\n",
      "('before', 5)\n",
      "('looking', 6)\n",
      "('terra-cotta', 7)\n",
      "('latter', 8)\n",
      "('bric-a-brac', 9)\n",
      "('fingers', 10)\n",
      "('deep', 11)\n",
      "('talking', 12)\n",
      "('used', 13)\n",
      "('perfect', 14)\n",
      "('merely', 15)\n",
      "('born', 16)\n",
      "('canvases', 17)\n",
      "('destruction', 18)\n",
      "('dozen', 19)\n",
      "('height', 20)\n",
      "('exquisite', 21)\n",
      "('taken', 22)\n",
      "('quality', 23)\n",
      "('naive', 24)\n",
      "('Had', 25)\n",
      "('grew', 26)\n",
      "('Oh', 27)\n",
      "('such', 28)\n",
      "('enabled', 29)\n",
      "('paid', 30)\n",
      "('fullest', 31)\n",
      "('gray', 32)\n",
      "('show', 33)\n",
      "('has', 34)\n",
      "('working', 35)\n",
      "('discussion', 36)\n",
      "('high', 37)\n",
      "('were', 38)\n",
      "('tea', 39)\n",
      "('real', 40)\n",
      "('multiplied', 41)\n",
      "('thin', 42)\n",
      "('beauty', 43)\n",
      "('self-confident', 44)\n",
      "('cigar', 45)\n",
      "('rose', 46)\n",
      "('followed', 47)\n",
      "('close', 48)\n",
      "('upset', 49)\n",
      "('run', 50)\n",
      "('background', 51)\n"
     ]
    }
   ],
   "source": [
    "vocab = {token:integer for integer, token in enumerate(all_words)}\n",
    "for i, item in enumerate(vocab.items()):\n",
    "    print(item)\n",
    "    if i > 50:\n",
    "        break"
   ]
  },
  {
   "cell_type": "code",
   "execution_count": 43,
   "id": "e4b3a589",
   "metadata": {},
   "outputs": [],
   "source": [
    "class SimpleTokeniserV1:\n",
    "    def __init__(self, vocab):\n",
    "        self.str_to_int = vocab\n",
    "        self.int_to_str = {i:s for s,i in vocab.items()}\n",
    "    \n",
    "    def encode(self, text):\n",
    "        preprocessed = re.split(r'([,.?_!\"()\\']|--|\\s)', raw_text)\n",
    "        preprocessed = [item.strip() for item in preprocessed if item.strip()]\n",
    "        ids = [self.str_to_int[s] for s in preprocessed]\n",
    "        return ids\n",
    "    \n",
    "    def decode(self, ids):\n",
    "        text = \" \".join([self.int_to_str[i] for i in ids])\n",
    "        text = re.sub(r'([,.?_!\"()\\']|--|\\s)', text)\n",
    "        return text\n",
    "        \n",
    "        "
   ]
  },
  {
   "cell_type": "code",
   "execution_count": 44,
   "id": "ed0ec884",
   "metadata": {},
   "outputs": [
    {
     "name": "stdout",
     "output_type": "stream",
     "text": [
      "[918, 432, 770, 242, 131, 823, 385, 896, 451, 1009, 412, 253, 896, 605, 1084, 813, 412, 997, 635, 495, 232, 457, 459, 158, 1109, 158, 686, 701, 358, 535, 1111, 20, 1088, 1034, 133, 358, 340, 228, 273, 1034, 2, 358, 272, 896, 964, 1013, 358, 1127, 103, 525, 535, 896, 406, 1146, 1111, 87, 516, 683, 331, 918, 385, 242, 635, 499, 878, 1012, 477, 1068, 897, 516, 753, 237, 134, 20, 1088, 1034, 133, 237, 412, 701, 495, 901, 1111, 779, 83, 635, 516, 918, 938, 686, 649, 516, 55, 1035, 412, 1034, 764, 108, 738, 412, 333, 1034, 835, 1145, 516, 237, 1028, 765, 635, 488, 257, 537, 158, 1152, 1111, 492, 1088, 657, 659, 488, 61, 892, 396, 918, 264, 488, 554, 285, 1088, 701, 358, 974, 516, 633, 412, 1111, 734, 158, 109, 1131, 303, 918, 285, 1088, 516, 237, 134, 1150, 358, 1146, 649, 516, 1035, 488, 257, 763, 358, 41, 859, 229, 136, 229, 547, 253, 452, 38, 305, 535, 464, 243, 241, 1088, 533, 516, 437, 635, 495, 121, 397, 1111, 649, 516, 660, 919, 166, 516, 25, 121, 1111, 21, 317, 491, 358, 907, 1111, 764, 712, 56, 33, 358, 409, 1109, 5, 823, 488, 257, 237, 798, 237, 158, 73, 358, 363, 120, 535, 350, 107, 237, 367, 759, 121, 361, 254, 859, 382, 864, 237, 596, 1124, 816, 412, 1042, 924, 1111, 644, 1088, 317, 488, 257, 120, 918, 174, 1036, 158, 666, 1111, 180, 363, 757, 516, 678, 131, 823, 816, 134, 779, 228, 680, 577, 412, 635, 495, 419, 701, 452, 211, 208, 577, 516, 1080, 1034, 826, 1067, 817, 469, 38, 1094, 358, 1127, 535, 1034, 826, 250, 761, 896, 600, 516, 1037, 308, 596, 309, 516, 238, 635, 38, 358, 1111, 814, 1088, 1111, 610, 495, 1002, 726, 553, 751, 322, 358, 919, 358, 535, 303, 605, 696, 358, 1144, 771, 535, 1111, 372, 896, 791, 739, 237, 747, 237, 1146, 131, 412, 565, 1088, 500, 1069, 212, 1085, 363, 729, 1076, 701, 918, 878, 1094, 683, 918, 1125, 488, 554, 73, 726, 740, 753, 966, 158, 823, 488, 257, 2, 516, 437, 997, 412, 1034, 857, 685, 1071, 1043, 412, 1111, 36, 651, 926, 771, 358, 1127, 358, 547, 649, 516, 1035, 228, 616, 358, 1111, 915, 1088, 237, 806, 237, 58, 573, 516, 653, 495, 121, 1063, 461, 72, 496, 701, 358, 535, 1111, 765, 1088, 896, 1000, 591, 488, 296, 1146, 1111, 87, 358, 635, 704, 447, 158, 1109, 158, 778, 139, 823, 228, 975, 573, 1034, 2, 516, 900, 713, 358, 635, 267, 495, 896, 962, 293, 516, 1057, 403, 1034, 727, 499, 878, 1012, 0, 470, 412, 1034, 1121, 800, 228, 1012, 921, 1111, 157, 1088, 895, 701, 649, 516, 823, 228, 237, 233, 577, 1074, 516, 237, 319, 649, 516, 823, 412, 547, 28, 412, 228, 121, 586, 1063, 414, 896, 999, 263, 131, 488, 257, 857, 228, 1012, 22, 516, 653, 259, 335, 701, 340, 228, 272, 350, 412, 142, 340, 116, 1034, 407, 412, 992, 340, 772, 488, 554, 449, 158, 840, 1146, 959, 396, 635, 499, 878, 1012, 54, 158, 909, 701, 340, 228, 975, 573, 1034, 2, 992, 340, 228, 272, 350, 516, 1028, 765, 358, 861, 681, 228, 121, 233, 577, 1074, 358, 681, 228, 995, 358, 547, 338, 491, 560, 358, 57, 158, 237, 773, 577, 573, 237, 412, 681, 228, 121, 462, 577, 195, 158, 1111, 59, 516, 1057, 960, 1111, 862, 1087, 1034, 96, 864, 412, 901, 896, 742, 980, 896, 727, 816, 920, 649, 516, 823, 204, 158, 878, 386, 635, 412, 1127, 918, 174, 635, 259, 335, 153, 158, 190, 771, 139, 516, 134, 877, 274, 1088, 1111, 87, 438, 570, 158, 28, 168, 493, 126, 1127, 597, 358, 1146, 657, 61, 158, 601, 679, 358, 480, 896, 803, 1088, 131, 488, 257, 143, 287, 244, 1111, 858, 358, 918, 228, 359, 523, 1149, 1111, 592, 323, 516, 918, 224, 1111, 922, 907, 39, 210, 346, 705, 1127, 649, 516, 823, 488, 257, 940, 495, 997, 467, 701, 358, 535, 1111, 344, 591, 358, 918, 1117, 635, 164, 516, 653, 495, 121, 701, 657, 555, 495, 237, 153, 237, 1151, 1146, 701, 1153, 918, 598, 878, 975, 338, 491, 1111, 31, 954, 516, 653, 495, 559, 992, 681, 495, 229, 121, 229, 153, 412, 861, 918, 585, 335, 822, 1111, 694, 412, 701, 918, 224, 350, 997, 516, 319, 131, 358, 303, 1034, 274, 358, 228, 1012, 330, 726, 153, 1064, 452, 228, 714, 1034, 420, 358, 635, 228, 1012, 1049, 535, 1111, 270, 1088, 346, 1072, 516, 437, 635, 495, 90, 1021, 158, 891, 901, 723, 1111, 237, 639, 698, 1088, 849, 237, 683, 918, 326, 338, 491, 753, 495, 597, 1146, 577, 516, 918, 878, 324, 701, 649, 516, 823, 495, 894, 1127, 635, 495, 830, 978, 701, 350, 710, 495, 794, 988, 538, 138, 896, 163, 396, 809, 998, 516, 653, 1131, 358, 547, 896, 123, 358, 1111, 1128, 919, 110, 625, 919, 981, 245, 771, 1088, 1026, 1127, 131, 488, 257, 1, 587, 1088, 1034, 727, 488, 257, 832, 549, 29, 577, 358, 363, 464, 1044, 1088, 14, 281, 358, 158, 520, 635, 1087, 1014, 1088, 420, 1127, 522, 516, 1057, 1111, 8, 358, 918, 551, 603, 358, 340, 422, 371, 599, 396, 340, 495, 183, 1157, 167, 1127, 86, 647, 363, 896, 578, 701, 249, 1111, 77, 1062, 516, 237, 356, 488, 257, 397, 855, 1131, 158, 960, 43, 1087, 424, 358, 237, 495, 565, 1088, 1111, 718, 340, 758, 1074, 575, 1111, 302, 1127, 304, 1088, 464, 1158, 132, 842, 358, 405, 358, 1146, 896, 496, 323, 358, 918, 228, 864, 50, 947, 988, 601, 380, 1127, 649, 516, 823, 358, 189, 1146, 577, 358, 879, 980, 657, 620, 237, 131, 1131, 997, 604, 675, 158, 606, 576, 1088, 43, 516, 237, 678, 131, 816, 653, 228, 770, 1012, 1034, 332, 158, 878, 779, 73, 28, 334, 1088, 706, 1111, 180, 211, 335, 845, 1074, 535, 692, 516, 707, 643, 1109, 1139, 495, 701, 358, 980, 1111, 623, 728, 358, 340, 247, 1111, 415, 516, 918, 228, 366, 577, 358, 997, 854, 358, 280, 140, 1031, 266, 412, 495, 635, 1111, 184, 891, 701, 193, 1095, 1088, 346, 439, 596, 562, 412, 980, 358, 248, 813, 358, 635, 677, 1052, 701, 340, 495, 453, 1088, 649, 516, 823, 412, 453, 813, 121, 158, 468, 350, 234, 516, 653, 495, 1034, 826, 234, 340, 796, 158, 335, 869, 140, 412, 1034, 826, 1155, 547, 464, 278, 980, 484, 1127, 624, 516, 237, 730, 445, 358, 142, 918, 488, 1029, 611, 2, 1128, 264, 488, 554, 73, 701, 749, 230, 1109, 412, 452, 73, 635, 230, 569, 1077, 358, 237, 495, 1034, 397, 526, 358, 547, 340, 46, 988, 1111, 799, 1127, 932, 771, 1070, 1111, 979, 684, 516, 918, 519, 263, 577, 358, 643, 726, 1034, 764, 1150, 516, 569, 1077, 495, 358, 535, 180, 358, 177, 1111, 542, 1088, 1111, 588, 412, 547, 131, 525, 358, 565, 259, 960, 635, 358, 228, 1012, 1111, 542, 1088, 1111, 953, 516, 134, 767, 149, 495, 1066, 158, 878, 556, 525, 907, 657, 490, 488, 257, 983, 358, 1127, 918, 711, 861, 896, 650, 1088, 308, 899, 1111, 8, 488, 257, 443, 1145, 516, 920, 232, 412, 980, 635, 495, 121, 1063, 263, 701, 1058, 701, 1111, 229, 46, 872, 229, 717, 228, 1126, 158, 702, 346, 237, 1015, 516, 237, 918, 345, 158, 649, 516, 823, 358, 919, 228, 227, 158, 307, 896, 958, 1088, 568, 158, 350, 669, 535, 1111, 886, 516, 237, 400, 229, 34, 229, 340, 611, 2, 596, 237, 918, 387, 1099, 516, 1003, 268, 350, 621, 363, 896, 1011, 1088, 498, 459, 516, 237, 27, 358, 340, 160, 488, 554, 229, 878, 229, 158, 1139, 358, 170, 933, 1127, 918, 449, 577, 158, 388, 525, 358, 237, 681, 1066, 590, 240, 516, 918, 102, 230, 1111, 3, 1027, 512, 358, 363, 859, 229, 682, 229, 4, 652, 1111, 497, 1088, 1111, 1082, 487, 314, 358, 1127, 859, 86, 672, 535, 163, 571, 66, 516, 237, 985, 340, 611, 1034, 647, 0, 596, 918, 260, 488, 554, 366, 896, 949, 565, 535, 1111, 196, 516, 237, 626, 504, 391, 1088, 376, 1059, 649, 516, 823, 488, 257, 1101, 65, 516, 237, 653, 488, 257, 1034, 1073, 1112, 358, 170, 632, 516, 315, 478, 452, 488, 641, 121, 213, 158, 878, 935, 340, 488, 257, 88, 1095, 303, 944, 593, 565, 412, 657, 977, 412, 1127, 701, 918, 878, 158, 1075, 848, 516, 237, 524, 1073, 1112, 412, 131, 488, 257, 1112, 230, 1034, 647, 596, 730, 365, 495, 838, 382, 1111, 638, 516, 918, 1066, 715, 158, 657, 262, 237, 918, 551, 267, 468, 185, 977, 358, 170, 632, 516, 237, 1003, 519, 771, 336, 865, 907, 1111, 684, 567, 350, 710, 358, 613, 535, 896, 784, 321, 358, 228, 1079, 896, 45, 1127, 1092, 1111, 1039, 614, 488, 257, 640, 244, 1034, 768, 516, 237, 1124, 358, 582, 171, 340, 488, 257, 121, 6, 358, 237, 681, 1066, 358, 363, 896, 258, 701, 1091, 158, 720, 350, 276, 1127, 918, 47, 350, 244, 1111, 769, 81, 1088, 1111, 60, 358, 1127, 573, 1111, 996, 62, 363, 7, 89, 483, 114, 687, 907, 265, 368, 516, 808, 1111, 289, 801, 1088, 350, 255, 358, 381, 896, 218, 1088, 163, 1127, 572, 1014, 358, 127, 565, 1088, 1111, 943, 1020, 17, 358, 535, 1111, 1100, 913, 733, 516, 134, 543, 1142, 1088, 1111, 733, 83, 573, 303, 823, 488, 257, 654, 816, 649, 516, 823, 521, 195, 1111, 217, 358, 805, 355, 896, 229, 150, 229, 290, 1088, 989, 91, 358, 827, 464, 792, 944, 358, 1127, 286, 237, 238, 170, 916, 1105, 170, 938, 559, 130, 158, 468, 635, 516, 918, 228, 635, 947, 1111, 754, 358, 396, 340, 347, 488, 554, 226, 635, 1056, 516, 237, 275, 412, 918, 598, 559, 130, 158, 468, 635, 412, 1111, 623, 977, 1088, 131, 488, 257, 918, 228, 873, 228, 158, 544, 657, 665, 947, 816, 871, 452, 228, 1111, 818, 1088, 814, 412, 73, 1111, 541, 882, 535, 896, 1082, 364, 1068, 229, 46, 872, 229, 934, 358, 1068, 896, 721, 59, 1065, 997, 701, 635, 337, 1111, 546, 924, 314, 1088, 219, 137, 1153, 516, 134, 1136, 1118, 818, 677, 1111, 659, 810, 215, 358, 547, 657, 665, 26, 318, 158, 1111, 627, 358, 303, 1111, 780, 209, 833, 771, 412, 303, 1111, 458, 1090, 547, 1086, 358, 1111, 844, 1088, 369, 726, 786, 358, 363, 28, 187, 668, 358, 340, 793, 158, 629, 970, 988, 1111, 40, 880, 1088, 1111, 659, 158, 104, 85, 860, 1088, 1006, 516, 649, 516, 823, 358, 298, 896, 856, 117, 158, 579, 1146, 412, 1016, 358, 547, 635, 38, 358, 997, 824, 1111, 51, 1088, 350, 826, 659, 412, 228, 408, 288, 535, 464, 762, 503, 158, 1111, 702, 1088, 538, 655, 948, 516, 134, 659, 495, 565, 1088, 131, 488, 257, 237, 1054, 358, 237, 547, 1034, 750, 499, 878, 960, 635, 412, 635, 235, 358, 1146, 1034, 203, 358, 896, 1008, 1088, 967, 358, 896, 911, 1088, 1114, 358, 896, 373, 358, 186, 1127, 389, 358, 701, 471, 565, 1088, 1111, 377, 488, 257, 670, 1060, 158, 773, 896, 608, 516, 653, 619, 358, 535, 1001, 358, 907, 606, 1153, 1111, 976, 1088, 841, 951, 158, 335, 902, 237, 876, 237, 992, 681, 495, 821, 1088, 685, 902, 237, 957, 237, 412, 1127, 215, 121, 158, 188, 464, 316, 1088, 1111, 374, 516, 237, 653, 488, 257, 1111, 764, 340, 902, 358, 170, 632, 358, 237, 649, 516, 823, 1066, 363, 973, 80, 516, 237, 134, 764, 396, 565, 358, 237, 681, 688, 288, 412, 237, 396, 1111, 1103, 160, 488, 554, 1115, 358, 992, 340, 425, 635, 516, 237, 237, 607, 635, 596, 237, 918, 495, 230, 158, 534, 573, 538, 222, 405, 918, 1094, 896, 191, 1127, 341, 131, 525, 1146, 1111, 931, 516, 972, 340, 875, 197, 358, 1034, 528, 535, 1111, 162, 1088, 1034, 927, 216, 358, 1111, 42, 510, 63, 1088, 908, 827, 195, 988, 1034, 990, 561, 358, 1034, 836, 481, 963, 1140, 726, 896, 284, 701, 440, 1111, 741, 1088, 896, 44, 295, 358, 918, 174, 158, 901, 896, 503, 340, 228, 1111, 1040, 23, 547, 1034, 647, 412, 1111, 23, 1088, 6, 101, 147, 340, 495, 516, 524, 727, 519, 907, 577, 545, 358, 396, 1034, 665, 135, 654, 350, 158, 1111, 977, 516, 237, 974, 516, 633, 531, 158, 468, 635, 358, 237, 681, 811, 358, 547, 861, 1096, 288, 516, 315, 74, 1034, 511, 358, 617, 398, 516, 237, 27, 358, 633, 224, 1109, 771, 589, 1041, 358, 237, 340, 1066, 115, 1045, 358, 903, 1034, 64, 924, 446, 237, 724, 1127, 468, 1111, 485, 1088, 1111, 196, 516, 237, 315, 971, 635, 158, 1109, 363, 896, 819, 1088, 24, 550, 394, 1111, 868, 358, 1111, 518, 358, 1111, 667, 358, 1111, 615, 412, 303, 1111, 552, 648, 1088, 1111, 557, 488, 257, 175, 887, 516, 437, 1089, 657, 778, 30, 1111, 320, 205, 340, 1066, 358, 155, 771, 1034, 580, 896, 144, 237, 275, 358, 918, 267, 264, 488, 554, 468, 1156, 1128, 130, 158, 416, 82, 701, 516, 237, 1124, 412, 635, 495, 559, 1111, 291, 565, 259, 878, 353, 980, 577, 516, 146, 340, 495, 358, 924, 635, 303, 1127, 535, 1030, 1088, 635, 303, 412, 547, 340, 228, 1012, 924, 358, 1127, 535, 1030, 1088, 358, 1034, 647, 412, 997, 739, 358, 997, 737, 358, 997, 465, 358, 701, 565, 881, 158, 200, 178, 237, 1120, 426, 363, 185, 797, 816, 237, 547, 448, 565, 228, 881, 158, 124, 237, 1120, 426, 363, 185, 579, 816, 237, 920, 358, 363, 1111, 200, 1146, 657, 763, 358, 657, 145, 584, 464, 889, 945, 516, 237, 434, 1131, 657, 826, 454, 358, 237, 340, 1066, 358, 1098, 1109, 1087, 896, 731, 246, 512, 907, 1111, 291, 1088, 1111, 700, 241, 516, 653, 495, 1108, 1127, 510, 1127, 722, 232, 237, 1107, 237, 431, 232, 9, 358, 283, 1088, 1111, 536, 1088, 1110, 980, 351, 535, 896, 659, 834, 412, 479, 303, 358, 232, 392, 756, 1088, 873, 597, 1012, 13, 547, 896, 790, 516, 134, 180, 1144, 646, 158, 1109, 1111, 1130, 111, 1088, 131, 488, 257, 671, 363, 1034, 219, 274, 516, 237, 1038, 488, 554, 170, 873, 795, 363, 427, 917, 1136, 596, 237, 918, 387, 358, 617, 6, 230, 980, 896, 695, 1088, 28, 460, 516, 237, 699, 358, 237, 340, 1066, 622, 516, 237, 401, 937, 412, 1068, 122, 596, 237, 524, 594, 665, 26, 169, 358, 1127, 1034, 963, 118, 896, 553, 140, 346, 739, 501, 516, 237, 699, 285, 1088, 635, 358, 657, 445, 1084, 412, 917, 1136, 147, 861, 918, 488, 942, 890, 75, 896, 862, 516, 237, 437, 1034, 415, 277, 1109, 535, 896, 807, 701, 340, 890, 242, 1088, 1023, 527, 516, 918, 805, 944, 358, 463, 301, 726, 657, 889, 441, 1127, 547, 918, 345, 358, 657, 618, 984, 1146, 896, 152, 659, 479, 1111, 754, 412, 1111, 397, 278, 455, 1111, 246, 703, 853, 1088, 1111, 512, 516, 237, 27, 358, 726, 788, 816, 237, 918, 1066, 516, 653, 495, 896, 612, 1088, 896, 566, 412, 464, 219, 821, 566, 358, 78, 535, 1111, 148, 140, 896, 642, 516, 237, 370, 788, 412, 896, 719, 816, 237, 918, 987, 516, 315, 495, 1032, 396, 918, 174, 577, 48, 505, 1109, 358, 725, 896, 553, 327, 516, 237, 707, 896, 778, 816, 1050, 363, 896, 19, 693, 412, 396, 1146, 105, 311, 516, 154, 939, 982, 358, 567, 595, 170, 981, 635, 596, 237, 315, 161, 125, 237, 649, 516, 719, 898, 635, 158, 1109, 516, 237, 237, 941, 412, 918, 772, 488, 554, 632, 170, 1042, 1134, 1111, 312, 516, 315, 495, 28, 464, 1004, 98, 516, 237, 237, 918, 772, 488, 554, 412, 1063, 263, 516, 516, 516, 516, 1003, 88, 980, 1109, 158, 427, 577, 405, 340, 495, 182, 516, 237, 237, 804, 340, 495, 182, 596, 154, 596, 237, 918, 551, 878, 226, 896, 553, 0, 529, 1129, 789, 924, 657, 459, 358, 980, 340, 161, 363, 896, 325, 444, 237, 275, 412, 681, 488, 257, 464, 914, 1147, 358, 170, 632, 358, 649, 516, 719, 516, 674, 397, 661, 495, 158, 878, 577, 84, 726, 896, 156, 634, 412, 502, 358, 1018, 719, 816, 1003, 242, 635, 1111, 67, 61, 1088, 299, 1034, 342, 412, 1088, 261, 635, 1146, 896, 141, 530, 516, 437, 907, 1111, 588, 918, 495, 229, 1111, 229, 156, 634, 516, 237, 237, 941, 358, 1018, 719, 412, 547, 170, 73, 516, 831, 229, 701, 229, 1034, 436, 596, 237, 237, 348, 495, 1034, 436, 516, 1003, 1051, 535, 577, 358, 1116, 535, 577, 412, 1068, 242, 681, 595, 516, 920, 681, 656, 488, 554, 395, 121, 158, 878, 303, 1111, 717, 363, 350, 516, 1003, 656, 488, 554, 395, 1111, 180, 701, 358, 1146, 76, 349, 358, 565, 598, 770, 981, 472, 813, 158, 468, 1034, 647, 516, 678, 951, 816, 1003, 488, 257, 559, 896, 165, 812, 980, 1103, 910, 516, 719, 1131, 1111, 397, 176, 918, 873, 1134, 516, 237, 237, 154, 873, 1134, 596, 920, 170, 559, 1066, 412, 237, 823, 228, 896, 743, 284, 535, 1034, 665, 516, 237, 27, 358, 918, 1134, 577, 358, 1127, 340, 1134, 1109, 412, 397, 635, 628, 263, 340, 495, 182, 516, 237, 918, 273, 657, 1093, 463, 516, 237, 804, 681, 88, 980, 170, 596, 237, 237, 275, 412, 590, 630, 158, 1111, 839, 516, 1003, 531, 577, 1002, 412, 1127, 726, 1109, 816, 237, 315, 450, 864, 358, 1127, 802, 195, 1034, 640, 158, 361, 573, 907, 1111, 612, 1088, 1111, 566, 516, 237, 815, 38, 349, 405, 918, 656, 488, 554, 361, 907, 701, 201, 412, 656, 488, 554, 666, 635, 516, 920, 918, 946, 359, 158, 960, 635, 119, 1127, 1139, 635, 488, 257, 435, 1109, 412, 435, 1109, 516, 348, 488, 257, 1111, 658, 139, 918, 264, 488, 554, 795, 917, 1136, 358, 657, 445, 1133, 1068, 385, 719, 525, 1131, 1111, 658, 516, 237, 319, 1111, 623, 728, 657, 766, 365, 230, 657, 1046, 345, 1087, 896, 199, 489, 158, 777, 577, 97, 516, 237, 918, 928, 170, 488, 942, 1022, 1109, 1156, 635, 628, 358, 237, 918, 1066, 516, 315, 875, 6, 573, 907, 1111, 612, 358, 1127, 456, 244, 1034, 10, 896, 583, 340, 228, 993, 158, 546, 516, 173, 340, 345, 956, 1109, 516, 237, 918, 488, 942, 385, 382, 158, 1022, 170, 412, 992, 918, 488, 1029, 770, 825, 170, 1088, 752, 657, 579, 516, 237, 918, 680, 896, 325, 783, 358, 786, 340, 269, 363, 896, 498, 955, 516, 237, 27, 358, 918, 772, 488, 554, 231, 896, 774, 405, 918, 1051, 535, 359, 412, 1127, 1139, 635, 488, 257, 464, 879, 362, 244, 863, 816, 237, 315, 450, 279, 358, 82, 884, 358, 1127, 827, 565, 1088, 1111, 11, 1123, 1007, 516, 237, 442, 52, 68, 846, 412, 1127, 1105, 690, 1111, 558, 170, 382, 516, 237, 315, 1065, 1095, 907, 657, 383, 1127, 251, 158, 513, 573, 1127, 1074, 1111, 512, 358, 837, 1139, 1127, 1045, 210, 1111, 659, 516, 237, 473, 635, 628, 596, 918, 938, 1022, 170, 535, 994, 968, 412, 1127, 635, 772, 488, 554, 843, 529, 1138, 158, 100, 516, 516, 516, 516, 918, 938, 223, 1139, 1156, 1061, 1127, 744, 918, 495, 405, 918, 352, 649, 516, 719, 488, 257, 891, 516, 1028, 765, 358, 11, 1074, 358, 918, 228, 770, 229, 174, 229, 197, 495, 232, 565, 382, 577, 412, 397, 918, 228, 662, 363, 1111, 1137, 358, 609, 1111, 1047, 313, 230, 577, 358, 1063, 918, 506, 352, 158, 285, 340, 495, 896, 782, 358, 565, 1088, 1111, 819, 701, 690, 378, 505, 516, 370, 788, 358, 1127, 340, 229, 495, 229, 378, 505, 412, 992, 340, 228, 582, 158, 1056, 816, 134, 485, 1088, 863, 228, 158, 226, 697, 335, 393, 1017, 1068, 840, 140, 358, 396, 340, 495, 37, 479, 1111, 736, 412, 1146, 105, 311, 358, 547, 170, 73, 516, 237, 1124, 358, 918, 58, 689, 158, 1111, 196, 535, 657, 245, 1005, 421, 412, 385, 805, 358, 925, 417, 1109, 358, 907, 1111, 430, 1088, 1018, 719, 488, 257, 128, 1088, 782, 685, 1104, 726, 1111, 133, 1088, 657, 2, 577, 816, 1028, 765, 918, 904, 158, 390, 1111, 659, 980, 1024, 412, 918, 277, 649, 516, 719, 997, 405, 681, 811, 158, 912, 866, 230, 350, 847, 516, 918, 223, 1148, 689, 896, 300, 969, 230, 1111, 814, 685, 229, 69, 229, 412, 1078, 358, 918, 495, 92, 358, 657, 445, 633, 816, 918, 495, 1110, 158, 359, 382, 565, 1088, 657, 826, 800, 516, 237, 1143, 918, 495, 22, 573, 1127, 378, 905, 363, 577, 516, 918, 228, 88, 303, 657, 329, 535, 220, 358, 1127, 918, 228, 397, 158, 845, 573, 1111, 59, 1127, 981, 158, 579, 516, 315, 228, 1012, 182, 397, 563, 294, 358, 1127, 340, 926, 704, 358, 1088, 929, 354, 358, 997, 701, 197, 228, 1012, 232, 339, 579, 1088, 18, 412, 1034, 666, 495, 708, 1127, 475, 516, 918, 228, 619, 577, 448, 1068, 172, 358, 72, 5, 358, 1127, 242, 577, 379, 1127, 883, 516, 95, 918, 341, 701, 340, 495, 1053, 516, 237, 918, 495, 192, 907, 623, 358, 363, 896, 15, 885, 221, 192, 158, 878, 657, 96, 1146, 28, 896, 488, 820, 516, 488, 1143, 1034, 581, 179, 811, 158, 716, 1109, 760, 412, 547, 918, 874, 1111, 640, 535, 918, 174, 547, 861, 340, 38, 239, 1109, 390, 635, 516, 134, 357, 495, 47, 726, 1111, 53, 861, 340, 229, 38, 229, 239, 1109, 358, 901, 499, 340, 73, 158, 657, 61, 1088, 35, 596, 730, 494, 811, 158, 840, 896, 553, 256, 412, 918, 174, 781, 1127, 1048, 516, 237, 433, 358, 405, 918, 102, 573, 358, 918, 796, 158, 468, 896, 284, 505, 1034, 48, 991, 429, 412, 547, 861, 340, 228, 1111, 828, 358, 1127, 38, 952, 525, 726, 850, 635, 195, 988, 1109, 516, 348, 1106, 1109, 617, 1136, 516, 134, 828, 596, 400, 358, 918, 228, 896, 828, 965, 292, 1088, 1034, 816, 918, 851, 907, 1111, 423, 404, 358, 1127, 1091, 104, 1088, 657, 906, 844, 516, 920, 452, 57, 1109, 358, 452, 328, 516, 918, 341, 701, 340, 888, 488, 554, 239, 1111, 1069, 950, 412, 918, 656, 488, 554, 732, 1034, 282, 340, 559, 181, 1034, 665, 1146, 1111, 54, 1081, 244, 516, 384, 38, 1111, 785, 918, 228, 770, 93, 358, 1068, 564, 573, 363, 104, 1113, 427, 516, 437, 1156, 340, 341, 924, 657, 636, 816, 237, 918, 102, 573, 864, 358, 1127, 480, 509, 1088, 701, 612, 1088, 1111, 566, 71, 1146, 1111, 642, 472, 1034, 236, 516, 524, 727, 277, 1109, 310, 635, 495, 1111, 764, 201, 340, 228, 84, 412, 559, 896, 891, 22, 363, 896, 548, 96, 358, 405, 340, 495, 1074, 535, 936, 532, 988, 896, 375, 929, 297, 516, 709, 896, 891, 816, 920, 635, 1141, 1034, 176, 436, 516, 815, 690, 72, 1088, 1135, 930, 1025, 535, 606, 735, 516, 626, 542, 919, 228, 637, 363, 1111, 736, 598, 890, 878, 252, 701, 225, 207, 755, 516, 516, 516, 516, 237, 918, 345, 195, 158, 657, 579, 358, 1127, 58, 1146, 812, 1127, 745, 1045, 918, 102, 907, 1111, 566, 864, 516, 918, 341, 701, 358, 405, 719, 758, 535, 1111, 623, 755, 358, 340, 1134, 559, 901, 1111, 291, 499, 335, 516, 315, 228, 486, 1034, 820, 358, 507, 635, 358, 1102, 635, 516, 804, 228, 918, 84, 701, 363, 917, 1088, 657, 334, 596, 402, 746, 488, 554, 1012, 16, 1088, 1109, 412, 918, 228, 559, 1033, 1095, 516, 516, 516, 516, 237, 1119, 635, 358, 633, 358, 363, 701, 666, 239, 1109, 918, 656, 488, 554, 390, 508, 755, 516, 134, 246, 870, 495, 358, 918, 772, 488, 554, 632, 567, 158, 960, 635, 412, 229, 918, 228, 890, 99, 229, 516, 146, 358, 363, 657, 800, 1127, 657, 530, 358, 896, 1069, 428, 1088, 112, 564, 573, 1111, 180, 412, 918, 559, 802, 427, 1087, 346, 867, 516, 516, 516, 516, 1124, 358, 427, 495, 1111, 565, 539, 500, 182, 665, 598, 468, 924, 412, 468, 271, 158, 1111, 343, 311, 159, 516, 1038, 488, 554, 170, 632, 1156, 358, 535, 12, 896, 514, 1154, 358, 1042, 515, 358, 565, 478, 506, 1111, 728, 121, 901, 565, 194, 158, 396, 901, 565, 938, 596, 1124, 412, 701, 495, 1111, 61, 918, 1019, 1127, 547, 340, 829, 197, 1127, 360, 1109, 358, 1111, 201, 452, 83, 657, 488, 410, 488, 306, 382, 896, 196, 1088, 602, 516, 315, 772, 488, 554, 1132, 358, 170, 777, 358, 1018, 719, 412, 340, 559, 829, 197, 1122, 239, 358, 1127, 1146, 1034, 763, 358, 924, 1111, 32, 429, 358, 918, 796, 158, 686, 1111, 1083, 488, 775, 170, 198, 170, 632, 567, 170, 488, 641, 776, 771, 596, 488, 237, 238, 918, 598, 878, 902, 701, 666, 358, 363, 701, 676, 1146, 635, 358, 918, 211, 878, 84, 896, 457, 201, 516, 134, 592, 645, 201, 495, 158, 468, 701, 918, 656, 488, 554, 412, 1127, 701, 466, 495, 975, 1109, 516, 920, 358, 1078, 358, 907, 701, 202, 358, 633, 358, 495, 197, 1023, 1146, 474, 918, 347, 488, 554, 878, 975, 158, 878, 719, 986, 5, 1109, 358, 1127, 158, 686, 577, 124, 488, 653, 488, 257, 121, 0, 79, 412, 918, 488, 1097, 33, 170, 1156, 488, 596, 237, 653, 229, 495, 229, 0, 79, 412, 635, 499, 878, 1012, 358, 1042, 861, 340, 488, 942, 1012, 986, 516, 918, 206, 573, 657, 329, 358, 1127, 58, 1074, 1127, 277, 649, 516, 719, 516, 1028, 765, 918, 772, 488, 554, 1022, 350, 229, 701, 229, 412, 635, 499, 878, 1012, 476, 158, 350, 516, 918, 240, 1066, 918, 656, 488, 554, 427, 577, 358, 701, 918, 495, 0, 805, 516, 1003, 385, 116, 1111, 661, 412, 681, 488, 257, 997, 411, 816, 653, 495, 701, 701, 680, 350, 307, 1109, 1111, 566, 516, 920, 681, 495, 482, 49, 907, 121, 1148, 1111, 977, 412, 681, 595, 997, 449, 577, 488, 84, 488, 726, 104, 565, 1069, 816, 574, 623, 918, 495, 94, 681, 347, 488, 554, 226, 1109, 689, 412, 1127, 907, 657, 540, 488, 291, 918, 787, 1077, 516, 275, 358, 635, 495, 918, 919, 923, 673, 918, 277, 649, 516, 719, 340, 495, 1111, 488, 776, 488, 542, 358, 1127, 681, 277, 70, 527, 358, 1127, 997, 635, 352, 158, 335, 852, 516, 516, 516, 516, 437, 340, 902, 719, 82, 961, 1127, 681, 127, 1111, 659, 114, 350, 710, 488, 257, 334, 516, 516, 516, 516, 237, 315, 129, 525, 1074, 535, 1111, 792, 472, 69, 358, 758, 195, 1034, 640, 358, 1127, 418, 1034, 691, 210, 635, 358, 102, 573, 907, 1111, 659, 479, 1111, 214, 516, 237, 918, 382, 158, 517, 701, 719, 525, 499, 878, 975, 635, 158, 1109, 358, 861, 340, 488, 942, 1012, 1036, 158, 73, 901, 340, 242, 701, 323, 516, 237, 437, 358, 535, 748, 158, 896, 676, 918, 960, 1055, 412, 237, 631, 864, 596, 237, 340, 113, 771, 516, 237, 804, 1111, 565, 201, 701, 151, 1109, 893, 472, 577, 1131, 701, 918, 1134, 813, 158, 663, 689, 596, 237, 315, 875, 573, 1127, 758, 1034, 96, 1146, 657, 1010, 363, 896, 258, 516, 237, 146, 1111, 839, 1088, 635, 1131, 701, 918, 229, 399, 229, 617, 2, 412, 142, 1077, 488, 257, 413, 635, 980, 1109, 816, 134, 312, 916, 905, 358, 1127, 100, 448, 412, 396, 197, 488, 257, 232, 664, 106, 819, 1088, 420, 516, 237]\n"
     ]
    }
   ],
   "source": [
    "tokeniser = SimpleTokeniserV1(vocab)\n",
    "text = \"\"\"It's the last he painted\"\"\"\n",
    "ids = tokeniser.encode(text)\n",
    "print(ids)"
   ]
  },
  {
   "cell_type": "code",
   "execution_count": 45,
   "id": "43b05fa7",
   "metadata": {},
   "outputs": [
    {
     "name": "stdout",
     "output_type": "stream",
     "text": [
      "I HAD always thought Jack Gisburn rather a cheap genius -- though a good fellow enough -- so it was no great surprise to me to hear that , in the height of his glory , he had dropped his painting , married a rich widow , and established himself in a villa on the Riviera . ( Though I rather thought it would have been Rome or Florence . ) \" The height of his glory \" -- that was what the women called it . I can hear Mrs . Gideon Thwing -- his last Chicago sitter -- deploring his unaccountable abdication . \" Of course it ' s going to send the value of my picture ' way up; but I don ' t think of that , Mr . Rickham -- the loss to Arrt is all I think of . \" The word , on Mrs . Thwing ' s lips , multiplied its _ rs _ as though they were reflected in an endless vista of mirrors . And it was not only the Mrs . Thwings who mourned . Had not the exquisite Hermia Croft , at the last Grafton Gallery show , stopped me before Gisburn ' s \" Moon-dancers \" to say , with tears in her eyes: \" We shall not look upon its like again \" ? Well ! -- even through the prism of Hermia ' s tears I felt able to face the fact with equanimity . Poor Jack Gisburn ! The women had made him -- it was fitting that they should mourn him . Among his own sex fewer regrets were heard , and in his own trade hardly a murmur . Professional jealousy ? Perhaps . If it were , the honour of the craft was vindicated by little Claude Nutley , who , in all good faith , brought out in the Burlington a very handsome \" obituary \" on Jack -- one of those showy articles stocked with random technicalities that I have heard ( I won ' t say by whom ) compared to Gisburn ' s painting . And so -- his resolve being apparently irrevocable -- the discussion gradually died out , and , as Mrs . Thwing had predicted , the price of \" Gisburns \" went up . It was not till three years later that , in the course of a few weeks ' idling on the Riviera , it suddenly occurred to me to wonder why Gisburn had given up his painting . On reflection , it really was a tempting problem . To accuse his wife would have been too easy -- his fair sitters had been denied the solace of saying that Mrs . Gisburn had \" dragged him down . \" For Mrs . Gisburn -- as such -- had not existed till nearly a year after Jack ' s resolve had been taken . It might be that he had married her -- since he liked his ease -- because he didn ' t want to go on painting; but it would have been hard to prove that he had given up his painting because he had married her . Of course , if she had not dragged him down , she had equally , as Miss Croft contended , failed to \" lift him up \" -- she had not led him back to the easel . To put the brush into his hand again -- what a vocation for a wife ! But Mrs . Gisburn appeared to have disdained it -- and I felt it might be interesting to find out why . The desultory life of the Riviera lends itself to such purely academic speculations; and having , on my way to Monte Carlo , caught a glimpse of Jack ' s balustraded terraces between the pines , I had myself borne thither the next day . I found the couple at tea beneath their palm-trees; and Mrs . Gisburn ' s welcome was so genial that , in the ensuing weeks , I claimed it frequently . It was not that my hostess was \" interesting \" : on that point I could have given Miss Croft the fullest reassurance . It was just because she was _ not _ interesting -- if I may be pardoned the bull -- that I found her so . For Jack , all his life , had been surrounded by interesting women: they had fostered his art , it had been reared in the hot-house of their adulation . And it was therefore instructive to note what effect the \" deadening atmosphere of mediocrity \" ( I quote Miss Croft ) was having on him . I have mentioned that Mrs . Gisburn was rich; and it was immediately perceptible that her husband was extracting from this circumstance a delicate but substantial satisfaction . It is , as a rule , the people who scorn money who get most out of it; and Jack ' s elegant disdain of his wife ' s big balance enabled him , with an appearance of perfect good-breeding , to transmute it into objects of art and luxury . To the latter , I must add , he remained relatively indifferent; but he was buying Renaissance bronzes and eighteenth-century pictures with a discrimination that bespoke the amplest resources . \" Money ' s only excuse is to put beauty into circulation , \" was one of the axioms he laid down across the Sevres and silver of an exquisitely appointed luncheon-table , when , on a later day , I had again run over from Monte Carlo; and Mrs . Gisburn , beaming on him , added for my enlightenment: \" Jack is so morbidly sensitive to every form of beauty . \" Poor Jack ! It had always been his fate to have women say such things of him: the fact should be set down in extenuation . What struck me now was that , for the first time , he resented the tone . I had seen him , so often , basking under similar tributes -- was it the conjugal note that robbed them of their savour ? No -- for , oddly enough , it became apparent that he was fond of Mrs . Gisburn -- fond enough not to see her absurdity . It was his own absurdity he seemed to be wincing under -- his own attitude as an object for garlands and incense . \" My dear , since I ' ve chucked painting people don ' t say that stuff about me -- they say it about Victor Grindle , \" was his only protest , as he rose from the table and strolled out onto the sunlit terrace . I glanced after him , struck by his last word . Victor Grindle was , in fact , becoming the man of the moment -- as Jack himself , one might put it , had been the man of the hour . The younger artist was said to have formed himself at my friend ' s feet , and I wondered if a tinge of jealousy underlay the latter ' s mysterious abdication . But no -- for it was not till after that event that the _ rose Dubarry _ drawing-rooms had begun to display their \" Grindles . \" I turned to Mrs . Gisburn , who had lingered to give a lump of sugar to her spaniel in the dining-room . \" Why _ has _ he chucked painting ? \" I asked abruptly . She raised her eyebrows with a hint of good-humoured surprise . \" Oh , he doesn ' t _ have _ to now , you know; and I want him to enjoy himself , \" she said quite simply . I looked about the spacious white-panelled room , with its _ famille-verte _ vases repeating the tones of the pale damask curtains , and its eighteenth-century pastels in delicate faded frames . \" Has he chucked his pictures too ? I haven ' t seen a single one in the house . \" A slight shade of constraint crossed Mrs . Gisburn ' s open countenance . \" It ' s his ridiculous modesty , you know . He says they ' re not fit to have about; he ' s sent them all away except one -- my portrait -- and that I have to keep upstairs . \" His ridiculous modesty -- Jack ' s modesty about his pictures ? My curiosity was growing like the bean-stalk . I said persuasively to my hostess: \" I must really see your portrait , you know . \" She glanced out almost timorously at the terrace where her husband , lounging in a hooded chair , had lit a cigar and drawn the Russian deerhound ' s head between his knees . \" Well , come while he ' s not looking , \" she said , with a laugh that tried to hide her nervousness; and I followed her between the marble Emperors of the hall , and up the wide stairs with terra-cotta nymphs poised among flowers at each landing . In the dimmest corner of her boudoir , amid a profusion of delicate and distinguished objects , hung one of the familiar oval canvases , in the inevitable garlanded frame . The mere outline of the frame called up all Gisburn ' s past ! Mrs . Gisburn drew back the window-curtains , moved aside a _ jardiniere _ full of pink azaleas , pushed an arm-chair away , and said: \" If you stand here you can just manage to see it . I had it over the mantel-piece , but he wouldn ' t let it stay . \" Yes -- I could just manage to see it -- the first portrait of Jack ' s I had ever had to strain my eyes over ! Usually they had the place of honour -- say the central panel in a pale yellow or _ rose Dubarry _ drawing-room , or a monumental easel placed so that it took the light through curtains of old Venetian point . The more modest place became the picture better; yet , as my eyes grew accustomed to the half-light , all the characteristic qualities came out -- all the hesitations disguised as audacities , the tricks of prestidigitation by which , with such consummate skill , he managed to divert attention from the real business of the picture to some pretty irrelevance of detail . Mrs . Gisburn , presenting a neutral surface to work on -- forming , as it were , so inevitably the background of her own picture -- had lent herself in an unusual degree to the display of this false virtuosity . The picture was one of Jack ' s \" strongest , \" as his admirers would have put it -- it represented , on his part , a swelling of muscles , a congesting of veins , a balancing , straddling and straining , that reminded one of the circus-clown ' s ironic efforts to lift a feather . It met , in short , at every point the demand of lovely woman to be painted \" strongly \" because she was tired of being painted \" sweetly \" -- and yet not to lose an atom of the sweetness . \" It ' s the last he painted , you know , \" Mrs . Gisburn said with pardonable pride . \" The last but one , \" she corrected herself -- \" but the other doesn ' t count , because he destroyed it . \" \" Destroyed it ? \" I was about to follow up this clue when I heard a footstep and saw Jack himself on the threshold . As he stood there , his hands in the pockets of his velveteen coat , the thin brown waves of hair pushed back from his white forehead , his lean sunburnt cheeks furrowed by a smile that lifted the tips of a self-confident moustache , I felt to what a degree he had the same quality as his pictures -- the quality of looking cleverer than he was . His wife glanced at him deprecatingly , but his eyes travelled past her to the portrait . \" Mr . Rickham wanted to see it , \" she began , as if excusing herself . He shrugged his shoulders , still smiling . \" Oh , Rickham found me out long ago , \" he said lightly; then , passing his arm through mine: \" Come and see the rest of the house . \" He showed it to me with a kind of naive suburban pride: the bath-rooms , the speaking-tubes , the dress-closets , the trouser-presses -- all the complex simplifications of the millionaire ' s domestic economy . And whenever my wonder paid the expected tribute he said , throwing out his chest a little: \" Yes , I really don ' t see how people manage to live without that . \" Well -- it was just the end one might have foreseen for him . Only he was , through it all and in spite of it all -- as he had been through , and in spite of , his pictures -- so handsome , so charming , so disarming , that one longed to cry out: \" Be dissatisfied with your leisure ! \" as once one had longed to say: \" Be dissatisfied with your work ! \" But , with the cry on my lips , my diagnosis suffered an unexpected check . \" This is my own lair , \" he said , leading me into a dark plain room at the end of the florid vista . It was square and brown and leathery: no \" effects \" ; no bric-a-brac , none of the air of posing for reproduction in a picture weekly -- above all , no least sign of ever having been used as a studio . The fact brought home to me the absolute finality of Jack ' s break with his old life . \" Don ' t you ever dabble with paint any more ? \" I asked , still looking about for a trace of such activity . \" Never , \" he said briefly . \" Or water-colour -- or etching ? \" His confident eyes grew dim , and his cheeks paled a little under their handsome sunburn . \" Never think of it , my dear fellow -- any more than if I ' d never touched a brush . \" And his tone told me in a flash that he never thought of anything else . I moved away , instinctively embarrassed by my unexpected discovery; and as I turned , my eye fell on a small picture above the mantel-piece -- the only object breaking the plain oak panelling of the room . \" Oh , by Jove ! \" I said . It was a sketch of a donkey -- an old tired donkey , standing in the rain under a wall . \" By Jove -- a Stroud ! \" I cried . He was silent; but I felt him close behind me , breathing a little quickly . \" What a wonder ! Made with a dozen lines -- but on everlasting foundations . You lucky chap , where did you get it ? \" He answered slowly: \" Mrs . Stroud gave it to me . \" \" Ah -- I didn ' t know you even knew the Strouds . He was such an inflexible hermit . \" \" I didn ' t -- till after . . . . She sent for me to paint him when he was dead . \" \" When he was dead ? You ? \" I must have let a little too much amazement escape through my surprise , for he answered with a deprecating laugh: \" Yes -- she ' s an awful simpleton , you know , Mrs . Stroud . Her only idea was to have him done by a fashionable painter -- ah , poor Stroud ! She thought it the surest way of proclaiming his greatness -- of forcing it on a purblind public . And at the moment I was _ the _ fashionable painter . \" \" Ah , poor Stroud -- as you say . Was _ that _ his history ? \" \" That was his history . She believed in him , gloried in him -- or thought she did . But she couldn ' t bear not to have all the drawing-rooms with her . She couldn ' t bear the fact that , on varnishing days , one could always get near enough to see his pictures . Poor woman ! She ' s just a fragment groping for other fragments . Stroud is the only whole I ever knew . \" \" You ever knew ? But you just said -- \" Gisburn had a curious smile in his eyes . \" Oh , I knew him , and he knew me -- only it happened after he was dead . \" I dropped my voice instinctively . \" When she sent for you ? \" \" Yes -- quite insensible to the irony . She wanted him vindicated -- and by me ! \" He laughed again , and threw back his head to look up at the sketch of the donkey . \" There were days when I couldn ' t look at that thing -- couldn ' t face it . But I forced myself to put it here; and now it ' s cured me -- cured me . That ' s the reason why I don ' t dabble any more , my dear Rickham; or rather Stroud himself is the reason . \" For the first time my idle curiosity about my companion turned into a serious desire to understand him better . \" I wish you ' d tell me how it happened , \" I said . He stood looking up at the sketch , and twirling between his fingers a cigarette he had forgotten to light . Suddenly he turned toward me . \" I ' d rather like to tell you -- because I ' ve always suspected you of loathing my work . \" I made a deprecating gesture , which he negatived with a good-humoured shrug . \" Oh , I didn ' t care a straw when I believed in myself -- and now it ' s an added tie between us ! \" He laughed slightly , without bitterness , and pushed one of the deep arm-chairs forward . \" There: make yourself comfortable -- and here are the cigars you like . \" He placed them at my elbow and continued to wander up and down the room , stopping now and then beneath the picture . \" How it happened ? I can tell you in five minutes -- and it didn ' t take much longer to happen . . . . I can remember now how surprised and pleased I was when I got Mrs . Stroud ' s note . Of course , deep down , I had always _ felt _ there was no one like him -- only I had gone with the stream , echoed the usual platitudes about him , till I half got to think he was a failure , one of the kind that are left behind . By Jove , and he _ was _ left behind -- because he had come to stay ! The rest of us had to let ourselves be swept along or go under , but he was high above the current -- on everlasting foundations , as you say . \" Well , I went off to the house in my most egregious mood -- rather moved , Lord forgive me , at the pathos of poor Stroud ' s career of failure being crowned by the glory of my painting him ! Of course I meant to do the picture for nothing -- I told Mrs . Stroud so when she began to stammer something about her poverty . I remember getting off a prodigious phrase about the honour being _ mine _ -- oh , I was princely , my dear Rickham ! I was posing to myself like one of my own sitters . \" Then I was taken up and left alone with him . I had sent all my traps in advance , and I had only to set up the easel and get to work . He had been dead only twenty-four hours , and he died suddenly , of heart disease , so that there had been no preliminary work of destruction -- his face was clear and untouched . I had met him once or twice , years before , and thought him insignificant and dingy . Now I saw that he was superb . \" I was glad at first , with a merely aesthetic satisfaction: glad to have my hand on such a ' subject . ' Then his strange life-likeness began to affect me queerly -- as I blocked the head in I felt as if he were watching me do it . The sensation was followed by the thought: if he _ were _ watching me , what would he say to my way of working ? My strokes began to go a little wild -- I felt nervous and uncertain . \" Once , when I looked up , I seemed to see a smile behind his close grayish beard -- as if he had the secret , and were amusing himself by holding it back from me . That exasperated me still more . The secret ? Why , I had a secret worth twenty of his ! I dashed at the canvas furiously , and tried some of my bravura tricks . But they failed me , they crumbled . I saw that he wasn ' t watching the showy bits -- I couldn ' t distract his attention; he just kept his eyes on the hard passages between . Those were the ones I had always shirked , or covered up with some lying paint . And how he saw through my lies ! \" I looked up again , and caught sight of that sketch of the donkey hanging on the wall near his bed . His wife told me afterward it was the last thing he had done -- just a note taken with a shaking hand , when he was down in Devonshire recovering from a previous heart attack . Just a note ! But it tells his whole history . There are years of patient scornful persistence in every line . A man who had swum with the current could never have learned that mighty up-stream stroke . . . . \" I turned back to my work , and went on groping and muddling; then I looked at the donkey again . I saw that , when Stroud laid in the first stroke , he knew just what the end would be . He had possessed his subject , absorbed it , recreated it . When had I done that with any of my things ? They hadn ' t been born of me -- I had just adopted them . . . . \" Hang it , Rickham , with that face watching me I couldn ' t do another stroke . The plain truth was , I didn ' t know where to put it -- _ I had never known _ . Only , with my sitters and my public , a showy splash of colour covered up the fact -- I just threw paint into their faces . . . . Well , paint was the one medium those dead eyes could see through -- see straight to the tottering foundations underneath . Don ' t you know how , in talking a foreign language , even fluently , one says half the time not what one wants to but what one can ? Well -- that was the way I painted; and as he lay there and watched me , the thing they called my ' technique ' collapsed like a house of cards . He didn ' t sneer , you understand , poor Stroud -- he just lay there quietly watching , and on his lips , through the gray beard , I seemed to hear the question: ' Are you sure you know where you ' re coming out ? ' \" If I could have painted that face , with that question on it , I should have done a great thing . The next greatest thing was to see that I couldn ' t -- and that grace was given me . But , oh , at that minute , Rickham , was there anything on earth I wouldn ' t have given to have Stroud alive before me , and to hear him say: ' It ' s not too late -- I ' ll show you how ' ? \" It _ was _ too late -- it would have been , even if he ' d been alive . I packed up my traps , and went down and told Mrs . Stroud . Of course I didn ' t tell her _ that _ -- it would have been Greek to her . I simply said I couldn ' t paint him , that I was too moved . She rather liked the idea -- she ' s so romantic ! It was that that made her give me the donkey . But she was terribly upset at not getting the portrait -- she did so want him ' done ' by some one showy ! At first I was afraid she wouldn ' t let me off -- and at my wits ' end I suggested Grindle . Yes , it was I who started Grindle: I told Mrs . Stroud he was the ' coming ' man , and she told somebody else , and so it got to be true . . . . And he painted Stroud without wincing; and she hung the picture among her husband ' s things . . . . \" He flung himself down in the arm-chair near mine , laid back his head , and clasping his arms beneath it , looked up at the picture above the chimney-piece . \" I like to fancy that Stroud himself would have given it to me , if he ' d been able to say what he thought that day . \" And , in answer to a question I put half-mechanically -- \" Begin again ? \" he flashed out . \" When the one thing that brings me anywhere near him is that I knew enough to leave off ? \" He stood up and laid his hand on my shoulder with a laugh . \" Only the irony of it is that I _ am _ still painting -- since Grindle ' s doing it for me ! The Strouds stand alone , and happen once -- but there ' s no exterminating our kind of art . \"\n"
     ]
    },
    {
     "ename": "TypeError",
     "evalue": "sub() missing 1 required positional argument: 'string'",
     "output_type": "error",
     "traceback": [
      "\u001b[1;31m---------------------------------------------------------------------------\u001b[0m",
      "\u001b[1;31mTypeError\u001b[0m                                 Traceback (most recent call last)",
      "Cell \u001b[1;32mIn[45], line 1\u001b[0m\n\u001b[1;32m----> 1\u001b[0m \u001b[38;5;28mprint\u001b[39m(tokeniser\u001b[38;5;241m.\u001b[39mdecode(ids))\n",
      "Cell \u001b[1;32mIn[43], line 15\u001b[0m, in \u001b[0;36mSimpleTokeniserV1.decode\u001b[1;34m(self, ids)\u001b[0m\n\u001b[0;32m     13\u001b[0m text \u001b[38;5;241m=\u001b[39m \u001b[38;5;124m\"\u001b[39m\u001b[38;5;124m \u001b[39m\u001b[38;5;124m\"\u001b[39m\u001b[38;5;241m.\u001b[39mjoin([\u001b[38;5;28mself\u001b[39m\u001b[38;5;241m.\u001b[39mint_to_str[i] \u001b[38;5;28;01mfor\u001b[39;00m i \u001b[38;5;129;01min\u001b[39;00m ids])\n\u001b[0;32m     14\u001b[0m \u001b[38;5;28mprint\u001b[39m(text)\n\u001b[1;32m---> 15\u001b[0m text \u001b[38;5;241m=\u001b[39m re\u001b[38;5;241m.\u001b[39msub(\u001b[38;5;124mr\u001b[39m\u001b[38;5;124m'\u001b[39m\u001b[38;5;124m([,.?_!\u001b[39m\u001b[38;5;124m\"\u001b[39m\u001b[38;5;124m()\u001b[39m\u001b[38;5;130;01m\\'\u001b[39;00m\u001b[38;5;124m]|--|\u001b[39m\u001b[38;5;124m\\\u001b[39m\u001b[38;5;124ms)\u001b[39m\u001b[38;5;124m'\u001b[39m, text)\n\u001b[0;32m     16\u001b[0m \u001b[38;5;28;01mreturn\u001b[39;00m text\n",
      "\u001b[1;31mTypeError\u001b[0m: sub() missing 1 required positional argument: 'string'"
     ]
    }
   ],
   "source": [
    "print(tokeniser.decode(ids))"
   ]
  },
  {
   "cell_type": "code",
   "execution_count": null,
   "id": "4d0487bc",
   "metadata": {},
   "outputs": [],
   "source": []
  }
 ],
 "metadata": {
  "kernelspec": {
   "display_name": "cuda-fa",
   "language": "python",
   "name": "cuda"
  },
  "language_info": {
   "codemirror_mode": {
    "name": "ipython",
    "version": 3
   },
   "file_extension": ".py",
   "mimetype": "text/x-python",
   "name": "python",
   "nbconvert_exporter": "python",
   "pygments_lexer": "ipython3",
   "version": "3.12.3"
  }
 },
 "nbformat": 4,
 "nbformat_minor": 5
}
