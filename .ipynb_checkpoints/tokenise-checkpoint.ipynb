{
 "cells": [
  {
   "cell_type": "code",
   "execution_count": 1,
   "id": "326bcf4e",
   "metadata": {},
   "outputs": [
    {
     "name": "stdout",
     "output_type": "stream",
     "text": [
      "Total number of character: 20479\n",
      "I HAD always thought Jack Gisburn rather a cheap genius--though a good fellow enough--so it was no \n"
     ]
    }
   ],
   "source": [
    "with open(\"verdict.txt\", \"r\", encoding=\"utf-8\") as f:\n",
    "    raw_text = f.read()\n",
    "print(\"Total number of character:\", len(raw_text))\n",
    "print(raw_text[:99])"
   ]
  },
  {
   "cell_type": "code",
   "execution_count": 2,
   "id": "e8ff17f4",
   "metadata": {},
   "outputs": [
    {
     "name": "stdout",
     "output_type": "stream",
     "text": [
      "4649\n"
     ]
    }
   ],
   "source": [
    "import re\n",
    "\n",
    "preprocessed = re.split(r'([,.?_!\"()\\']|--|\\s)', raw_text)\n",
    "preprocessed = [item.strip() for item in preprocessed if item.strip()]\n",
    "print(len(preprocessed))"
   ]
  },
  {
   "cell_type": "code",
   "execution_count": 3,
   "id": "2643d63f",
   "metadata": {},
   "outputs": [
    {
     "name": "stdout",
     "output_type": "stream",
     "text": [
      "['I', 'HAD', 'always', 'thought', 'Jack', 'Gisburn', 'rather', 'a', 'cheap', 'genius', '--', 'though', 'a', 'good', 'fellow', 'enough', '--', 'so', 'it', 'was', 'no', 'great', 'surprise', 'to', 'me', 'to', 'hear', 'that', ',', 'in']\n"
     ]
    }
   ],
   "source": [
    "print(preprocessed[:30])"
   ]
  },
  {
   "cell_type": "code",
   "execution_count": 4,
   "id": "3a668574",
   "metadata": {},
   "outputs": [
    {
     "name": "stdout",
     "output_type": "stream",
     "text": [
      "1159\n"
     ]
    }
   ],
   "source": [
    "#Converting tokens into token IDs\n",
    "all_words = sorted(list(set(preprocessed)))\n",
    "vocab_size = len(all_words)\n",
    "print(vocab_size)\n"
   ]
  },
  {
   "cell_type": "code",
   "execution_count": 5,
   "id": "a22d614b",
   "metadata": {},
   "outputs": [],
   "source": [
    "vocab = {token:integer for integer, token in enumerate(all_words)}\n",
    "# for i, item in enumerate(vocab.items()):\n",
    "#     print(item)\n",
    "#     if i > 50:\n",
    "#         break"
   ]
  },
  {
   "cell_type": "code",
   "execution_count": 6,
   "id": "e4b3a589",
   "metadata": {},
   "outputs": [],
   "source": [
    "class SimpleTokeniserV1:\n",
    "    def __init__(self, vocab):\n",
    "        self.str_to_int = vocab\n",
    "        self.int_to_str = {i:s for s,i in vocab.items()}\n",
    "    \n",
    "    def encode(self, text):\n",
    "        # Split text on special characters and whitespace\n",
    "        preprocessed = re.split(r'([,.?_!\"()\\']|--|\\s)', text)\n",
    "        preprocessed = [item.strip() for item in preprocessed if item.strip()]\n",
    "        ids = [self.str_to_int[s] for s in preprocessed]\n",
    "        return ids\n",
    "    \n",
    "    def decode(self, ids):\n",
    "        text = \" \".join([self.int_to_str[i] for i in ids])\n",
    "        text = re.sub(r'([,.?_!\"()\\']|--|\\s)', r'\\1',text)\n",
    "        return text\n",
    "        \n",
    "# If text is: \"Hello, world!\"\n",
    "# After re.split():\n",
    "# preprocessed = ['Hello', ',', '', 'world', '!']\n",
    "\n",
    "# After the cleaning loop:\n",
    "# preprocessed = ['Hello', ',', 'world', '!']"
   ]
  },
  {
   "cell_type": "code",
   "execution_count": 7,
   "id": "ed0ec884",
   "metadata": {},
   "outputs": [
    {
     "name": "stdout",
     "output_type": "stream",
     "text": [
      "[58, 2, 872, 1013, 615, 541, 763]\n"
     ]
    }
   ],
   "source": [
    "tokeniser = SimpleTokeniserV1(vocab)\n",
    "text = \"\"\"It's the last he painted\"\"\"\n",
    "ids = tokeniser.encode(text)\n",
    "print(ids)"
   ]
  },
  {
   "cell_type": "code",
   "execution_count": 8,
   "id": "43b05fa7",
   "metadata": {},
   "outputs": [
    {
     "name": "stdout",
     "output_type": "stream",
     "text": [
      "It ' s the last he painted\n"
     ]
    }
   ],
   "source": [
    "print(tokeniser.decode(ids))"
   ]
  },
  {
   "cell_type": "code",
   "execution_count": 9,
   "id": "4d0487bc",
   "metadata": {},
   "outputs": [
    {
     "ename": "KeyError",
     "evalue": "'Hello'",
     "output_type": "error",
     "traceback": [
      "\u001b[1;31m---------------------------------------------------------------------------\u001b[0m",
      "\u001b[1;31mKeyError\u001b[0m                                  Traceback (most recent call last)",
      "Cell \u001b[1;32mIn[9], line 2\u001b[0m\n\u001b[0;32m      1\u001b[0m text \u001b[38;5;241m=\u001b[39m \u001b[38;5;124m\"\u001b[39m\u001b[38;5;124mHello, do you like tea?\u001b[39m\u001b[38;5;124m\"\u001b[39m\n\u001b[1;32m----> 2\u001b[0m x \u001b[38;5;241m=\u001b[39m tokeniser\u001b[38;5;241m.\u001b[39mencode(text)\n\u001b[0;32m      3\u001b[0m \u001b[38;5;28mprint\u001b[39m(x)\n",
      "Cell \u001b[1;32mIn[6], line 10\u001b[0m, in \u001b[0;36mSimpleTokeniserV1.encode\u001b[1;34m(self, text)\u001b[0m\n\u001b[0;32m      8\u001b[0m preprocessed \u001b[38;5;241m=\u001b[39m re\u001b[38;5;241m.\u001b[39msplit(\u001b[38;5;124mr\u001b[39m\u001b[38;5;124m'\u001b[39m\u001b[38;5;124m([,.?_!\u001b[39m\u001b[38;5;124m\"\u001b[39m\u001b[38;5;124m()\u001b[39m\u001b[38;5;130;01m\\'\u001b[39;00m\u001b[38;5;124m]|--|\u001b[39m\u001b[38;5;124m\\\u001b[39m\u001b[38;5;124ms)\u001b[39m\u001b[38;5;124m'\u001b[39m, text)\n\u001b[0;32m      9\u001b[0m preprocessed \u001b[38;5;241m=\u001b[39m [item\u001b[38;5;241m.\u001b[39mstrip() \u001b[38;5;28;01mfor\u001b[39;00m item \u001b[38;5;129;01min\u001b[39;00m preprocessed \u001b[38;5;28;01mif\u001b[39;00m item\u001b[38;5;241m.\u001b[39mstrip()]\n\u001b[1;32m---> 10\u001b[0m ids \u001b[38;5;241m=\u001b[39m [\u001b[38;5;28mself\u001b[39m\u001b[38;5;241m.\u001b[39mstr_to_int[s] \u001b[38;5;28;01mfor\u001b[39;00m s \u001b[38;5;129;01min\u001b[39;00m preprocessed]\n\u001b[0;32m     11\u001b[0m \u001b[38;5;28;01mreturn\u001b[39;00m ids\n",
      "\u001b[1;31mKeyError\u001b[0m: 'Hello'"
     ]
    }
   ],
   "source": [
    "text = \"Hello, do you like tea?\"\n",
    "x = tokeniser.encode(text)\n",
    "print(x)"
   ]
  },
  {
   "cell_type": "code",
   "execution_count": 19,
   "id": "d4518f12",
   "metadata": {},
   "outputs": [
    {
     "name": "stdout",
     "output_type": "stream",
     "text": [
      "1161\n"
     ]
    }
   ],
   "source": [
    "all_tokens = sorted(list(set(preprocessed)))\n",
    "all_tokens.extend([\"<|unk|>\", \"<|endoftext|>\"])\n",
    "vocab = {token:integer for integer, token in enumerate(all_tokens)}\n",
    "print(len(vocab.items()))"
   ]
  },
  {
   "cell_type": "code",
   "execution_count": 20,
   "id": "7fe6ba6a",
   "metadata": {},
   "outputs": [
    {
     "name": "stdout",
     "output_type": "stream",
     "text": [
      "('younger', 1156)\n",
      "('your', 1157)\n",
      "('yourself', 1158)\n",
      "('<|unk|>', 1159)\n",
      "('<|endoftext|>', 1160)\n"
     ]
    }
   ],
   "source": [
    "for i, item in enumerate(list(vocab.items())[-5:]):\n",
    "    print(item)"
   ]
  },
  {
   "cell_type": "code",
   "execution_count": 21,
   "id": "68c592fe",
   "metadata": {},
   "outputs": [],
   "source": [
    "class SimpleTokeniserV2:\n",
    "    def __init__(self, vocab):\n",
    "        self.str_to_int = vocab\n",
    "        self.int_to_str = {i:s for s,i in vocab.items()}\n",
    "        \n",
    "    def encode(self, text):\n",
    "#         def handle_token(token):\n",
    "#             if not token:\n",
    "#                 return None\n",
    "#             token = token.strip()\n",
    "#             return token if token in self.str_to_int else \"<|unk|>\"\n",
    "        \n",
    "        preprocessed = re.split(r'([,.?_!\"()\\']|--|\\s)', text)\n",
    "#         item.strip() for item in preprocessed if item.strip()\n",
    "#         preprocessed = [tk for tk in (handle_token(item) for item in preprocessed) if tk]\n",
    "        preprocessed  = [item.strip() if item.strip() in self.str_to_int else \"<|unk|>\" \n",
    "                           for item in preprocessed if item.strip()]\n",
    "        ids = [self.str_to_int[s] for s in preprocessed]\n",
    "        return ids\n",
    "\n",
    "    def decode(self, ids):\n",
    "        text = \" \".join([self.int_to_str[i] for i in ids])\n",
    "        text = re.sub(r'\\s+([,.?!\"()\\'])', r'\\1', text) \n",
    "        return text"
   ]
  },
  {
   "cell_type": "code",
   "execution_count": 22,
   "id": "1b9dbf64",
   "metadata": {},
   "outputs": [
    {
     "name": "stdout",
     "output_type": "stream",
     "text": [
      "Hello, do you like tea? <|endoftext|> In the sunlit terraces of the palace.\n"
     ]
    }
   ],
   "source": [
    "text1 = \"Hello, do you like tea?\"\n",
    "text2 = \"In the sunlit terraces of the palace.\"\n",
    "text = \" <|endoftext|> \".join((text1, text2))\n",
    "print(text)"
   ]
  },
  {
   "cell_type": "code",
   "execution_count": 23,
   "id": "b1b68dc9",
   "metadata": {},
   "outputs": [
    {
     "name": "stdout",
     "output_type": "stream",
     "text": [
      "[1159, 5, 362, 1155, 642, 1000, 10, 1160, 57, 1013, 981, 1009, 738, 1013, 1159, 7]\n"
     ]
    }
   ],
   "source": [
    "tokeniser = SimpleTokeniserV2(vocab)\n",
    "print(tokeniser.encode(text))"
   ]
  },
  {
   "cell_type": "code",
   "execution_count": 24,
   "id": "cda860f6",
   "metadata": {},
   "outputs": [
    {
     "name": "stdout",
     "output_type": "stream",
     "text": [
      "<|unk|>, do you like tea? <|endoftext|> In the sunlit terraces of the <|unk|>.\n"
     ]
    }
   ],
   "source": [
    "print(tokeniser.decode(tokeniser.encode(text)))"
   ]
  },
  {
   "cell_type": "code",
   "execution_count": 32,
   "id": "611a31e4",
   "metadata": {},
   "outputs": [
    {
     "name": "stdout",
     "output_type": "stream",
     "text": [
      "[9906, 11, 656, 499, 1093, 15600, 30, 220, 100257, 763, 279, 7160, 32735, 60661]\n"
     ]
    }
   ],
   "source": [
    "import tiktoken\n",
    "tokeniser = tiktoken.get_encoding(\"cl100k_base\") #gpt2\n",
    "text = \"Hello, do you like tea? <|endoftext|> In the sunlit terra\"\n",
    "integers = tokeniser.encode(text, allowed_special={\"<|endoftext|>\"})\n",
    "print(integers)"
   ]
  },
  {
   "cell_type": "code",
   "execution_count": 33,
   "id": "6396d45b",
   "metadata": {},
   "outputs": [
    {
     "name": "stdout",
     "output_type": "stream",
     "text": [
      "Hello, do you like tea? <|endoftext|> In the sunlit terra\n"
     ]
    }
   ],
   "source": [
    "# BPE tokenizers break down unknown words into subwords and individual\n",
    "# characters. This way, a BPE tokenizer can parse any word and doesn't need to replace unknown\n",
    "# words with special tokens, such as <|unk|>\n",
    "strings = tokeniser.decode(integers)\n",
    "print(strings)"
   ]
  },
  {
   "cell_type": "code",
   "execution_count": 34,
   "id": "81e97480",
   "metadata": {},
   "outputs": [
    {
     "name": "stdout",
     "output_type": "stream",
     "text": [
      "4943\n"
     ]
    }
   ],
   "source": [
    "#creating input-target pairs\n",
    "#first will tokenise the whole testing set\n",
    "\n",
    "with open(\"verdict.txt\", \"r\", encoding=\"utf-8\") as f:\n",
    "    raw_text  = f.read()\n",
    "\n",
    "enc_text = tokeniser.encode(raw_text)\n",
    "print(len(enc_text))"
   ]
  },
  {
   "cell_type": "code",
   "execution_count": 35,
   "id": "8d14bfce",
   "metadata": {},
   "outputs": [],
   "source": [
    "#remove first 50 tokens for visual demonstration purposes\n",
    "enc_sample = enc_text[50:]"
   ]
  },
  {
   "cell_type": "code",
   "execution_count": 43,
   "id": "e33bffd4",
   "metadata": {},
   "outputs": [
    {
     "name": "stdout",
     "output_type": "stream",
     "text": [
      "x : [323, 9749, 5678, 304]\n",
      "y :\t [9749, 5678, 304, 264]\n"
     ]
    }
   ],
   "source": [
    "# let x = input tokens, y = target tokens, where y=x[pos+1]\n",
    "context_size = 4\n",
    "x = enc_sample[:context_size]\n",
    "y = enc_sample[1:context_size+1]\n",
    "print(f\"x : {x}\")\n",
    "print(f\"y :\\t {y}\")"
   ]
  },
  {
   "cell_type": "code",
   "execution_count": 45,
   "id": "d7b5daa0",
   "metadata": {},
   "outputs": [
    {
     "name": "stdout",
     "output_type": "stream",
     "text": [
      "[323] ---> 9749\n",
      "[323, 9749] ---> 5678\n",
      "[323, 9749, 5678] ---> 304\n",
      "[323, 9749, 5678, 304] ---> 264\n"
     ]
    }
   ],
   "source": [
    "for i in range(1, context_size+1):\n",
    "    context = enc_sample[:i]\n",
    "    desired = enc_sample[i]\n",
    "    print(context, \"--->\", desired)"
   ]
  },
  {
   "cell_type": "code",
   "execution_count": 50,
   "id": "dbe9a79d",
   "metadata": {},
   "outputs": [
    {
     "name": "stdout",
     "output_type": "stream",
     "text": [
      " and --->  established\n",
      " and established --->  himself\n",
      " and established himself --->  in\n",
      " and established himself in --->  a\n"
     ]
    }
   ],
   "source": [
    "for i in range(1, context_size+1):\n",
    "    context = enc_sample[:i]\n",
    "    desired = enc_sample[i]\n",
    "    print(tokeniser.decode(context) , \"--->\" ,tokeniser.decode([desired]))"
   ]
  },
  {
   "cell_type": "code",
   "execution_count": 56,
   "id": "49f15a20",
   "metadata": {},
   "outputs": [
    {
     "ename": "ImportError",
     "evalue": "cannot import name 'Dataloader' from 'torch.utils.data' (D:\\Users\\armal\\anaconda3\\Lib\\site-packages\\torch\\utils\\data\\__init__.py)",
     "output_type": "error",
     "traceback": [
      "\u001b[1;31m---------------------------------------------------------------------------\u001b[0m",
      "\u001b[1;31mImportError\u001b[0m                               Traceback (most recent call last)",
      "Cell \u001b[1;32mIn[56], line 2\u001b[0m\n\u001b[0;32m      1\u001b[0m \u001b[38;5;28;01mimport\u001b[39;00m \u001b[38;5;21;01mtorch\u001b[39;00m\n\u001b[1;32m----> 2\u001b[0m \u001b[38;5;28;01mfrom\u001b[39;00m \u001b[38;5;21;01mtorch\u001b[39;00m\u001b[38;5;21;01m.\u001b[39;00m\u001b[38;5;21;01mutils\u001b[39;00m\u001b[38;5;21;01m.\u001b[39;00m\u001b[38;5;21;01mdata\u001b[39;00m \u001b[38;5;28;01mimport\u001b[39;00m Dataset, Dataloader\n\u001b[0;32m      4\u001b[0m \u001b[38;5;28;01mclass\u001b[39;00m \u001b[38;5;21;01mGPTDatasetV1\u001b[39;00m(Dataset):\n\u001b[0;32m      5\u001b[0m     \u001b[38;5;28;01mdef\u001b[39;00m \u001b[38;5;21m__init__\u001b[39m(\u001b[38;5;28mself\u001b[39m, txt, tokeniser, max_length, stride):\n",
      "\u001b[1;31mImportError\u001b[0m: cannot import name 'Dataloader' from 'torch.utils.data' (D:\\Users\\armal\\anaconda3\\Lib\\site-packages\\torch\\utils\\data\\__init__.py)"
     ]
    }
   ],
   "source": [
    "import torch\n",
    "from torch.utils.data import Dataset, Dataloader\n",
    "\n",
    "class GPTDatasetV1(Dataset):\n",
    "    def __init__(self, txt, tokeniser, max_length, stride):\n",
    "        self.tokeniser = tokeniser\n",
    "        self.input_ids=  []\n",
    "        self.target_ids =[]\n",
    "        \n",
    "        token_ids = tokeniser.encode(txt)\n",
    "        \n",
    "        for i in range(0, len(token_ids) - max_length, stride):\n",
    "            input_chunk = token_ids[i: i + max_length]\n",
    "            target_chunk= token_ids[i+1: i + max_length+ 1]\n",
    "            self.input_ids.append(torch.tensor(input_chunk))\n",
    "            self.target_ids.append(torch.tensor(target_chunk))\n",
    "            \n",
    "        def __len__(self):\n",
    "            return len(self.input_ids)\n",
    "        \n",
    "        def __getitem__(self, idx):\n",
    "            return self.input_ids[idx], self.target_ids[idx]"
   ]
  },
  {
   "cell_type": "code",
   "execution_count": 72,
   "id": "ae367f28",
   "metadata": {},
   "outputs": [
    {
     "data": {
      "text/plain": [
       "tensor(0.0852)"
      ]
     },
     "execution_count": 72,
     "metadata": {},
     "output_type": "execute_result"
    }
   ],
   "source": [
    "import torch.nn.functional as F\n",
    "\n",
    "y = torch.tensor([1.0])\n",
    "x1 = torch.tensor([1.1])\n",
    "w1 = torch.tensor([2.2])\n",
    "b = torch.tensor([0.0])\n",
    "z = x1* w1 + b\n",
    "a = torch.sigmoid(z)\n",
    "\n",
    "a\n",
    "loss = F.binary_cross_entropy(a, y)\n",
    "loss\n",
    "#p 216"
   ]
  },
  {
   "cell_type": "code",
   "execution_count": 94,
   "id": "a5274506",
   "metadata": {},
   "outputs": [
    {
     "name": "stdout",
     "output_type": "stream",
     "text": [
      "(tensor([0.9002]),)\n",
      "(tensor([0.8183]),)\n"
     ]
    }
   ],
   "source": [
    "import torch.nn.functional as F\n",
    "from torch.autograd import grad\n",
    "\n",
    "y = torch.tensor([0.1])\n",
    "x1 = torch.tensor([1.1]) #input value\n",
    "w1 = torch.tensor([2.2], requires_grad=True) #input weight\n",
    "b = torch.tensor([0.0], requires_grad=True) #bias\n",
    "\n",
    "z = x1 * w1 + b #net j\n",
    "a = torch.sigmoid(z) #activation function \n",
    "\n",
    "# a = sigmoid((input value * input weight) + bias)\n",
    "\n",
    "loss = F.binary_cross_entropy(a,y)\n",
    "\n",
    "\n",
    "grad_L_w1 = grad(loss, w1 , retain_graph=True)\n",
    "grad_L_b = grad(loss, b , retain_graph=True)\n",
    "\n",
    "print(grad_L_w1)\n",
    "print(grad_L_b)\n"
   ]
  },
  {
   "cell_type": "code",
   "execution_count": 96,
   "id": "e4173d26",
   "metadata": {},
   "outputs": [
    {
     "name": "stdout",
     "output_type": "stream",
     "text": [
      "tensor([0.9002])\n",
      "tensor([0.8183])\n"
     ]
    }
   ],
   "source": [
    "loss.backward()\n",
    "print(w1.grad)\n",
    "print(b.grad)"
   ]
  },
  {
   "cell_type": "code",
   "execution_count": 98,
   "id": "15f17e52",
   "metadata": {},
   "outputs": [
    {
     "ename": "SyntaxError",
     "evalue": "incomplete input (439850599.py, line 2)",
     "output_type": "error",
     "traceback": [
      "\u001b[1;36m  Cell \u001b[1;32mIn[98], line 2\u001b[1;36m\u001b[0m\n\u001b[1;33m    def __init__(self, num_inputs, num_outputs):\u001b[0m\n\u001b[1;37m                                                ^\u001b[0m\n\u001b[1;31mSyntaxError\u001b[0m\u001b[1;31m:\u001b[0m incomplete input\n"
     ]
    }
   ],
   "source": [
    "class NeuralNetwork(torch.nn.module):\n",
    "    def __init__(self, num_inputs, num_outputs):"
   ]
  },
  {
   "cell_type": "code",
   "execution_count": null,
   "id": "18558f35",
   "metadata": {},
   "outputs": [],
   "source": [
    "df"
   ]
  }
 ],
 "metadata": {
  "kernelspec": {
   "display_name": "cuda-fa",
   "language": "python",
   "name": "cuda"
  },
  "language_info": {
   "codemirror_mode": {
    "name": "ipython",
    "version": 3
   },
   "file_extension": ".py",
   "mimetype": "text/x-python",
   "name": "python",
   "nbconvert_exporter": "python",
   "pygments_lexer": "ipython3",
   "version": "3.12.3"
  }
 },
 "nbformat": 4,
 "nbformat_minor": 5
}
